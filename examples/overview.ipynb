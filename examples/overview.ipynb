{
 "cells": [
  {
   "attachments": {},
   "cell_type": "markdown",
   "metadata": {},
   "source": [
    "# Acuzle utils"
   ]
  },
  {
   "cell_type": "markdown",
   "metadata": {},
   "source": [
    "This example requires opencv"
   ]
  },
  {
   "cell_type": "code",
   "execution_count": 1,
   "metadata": {},
   "outputs": [],
   "source": [
    "!pip install --quiet opencv-python"
   ]
  },
  {
   "cell_type": "code",
   "execution_count": 2,
   "metadata": {},
   "outputs": [
    {
     "name": "stdout",
     "output_type": "stream",
     "text": [
      "CUDA_VISIBLE_DEVICES is not set.Valid example: export CUDA_VISIBLE_DEVICES=1,3,0\n",
      "|WRN| Using CPU, cucim or cupy not available.\n"
     ]
    }
   ],
   "source": [
    "import acutils as au"
   ]
  },
  {
   "attachments": {},
   "cell_type": "markdown",
   "metadata": {},
   "source": [
    "Functions and classes implemented by Acuzle are stored into this library."
   ]
  },
  {
   "cell_type": "code",
   "execution_count": 3,
   "metadata": {},
   "outputs": [
    {
     "data": {
      "text/plain": [
       "<module 'acutils.video' from '/home/thomaspdm/.local/lib/python3.10/site-packages/acutils/video.py'>"
      ]
     },
     "execution_count": 3,
     "metadata": {},
     "output_type": "execute_result"
    }
   ],
   "source": [
    "au.file # about directories and files\n",
    "au.handler # about handlers, high level classes to make developer lives easier\n",
    "au.gpu # about GPU computation, to enable or disable it (only for pathology for now)\n",
    "au.image # about images (Computer Vision)\n",
    "au.multiprocess # about multiprocessing and processes\n",
    "au.pathology # about pathology data for segmentation and tiling\n",
    "au.sheet # about sheets (pandas.DataFrame)\n",
    "au.video # about video data, can extract frames or sequences"
   ]
  },
  {
   "attachments": {},
   "cell_type": "markdown",
   "metadata": {},
   "source": [
    "Let's focus about the DataHandler.\n",
    "\n",
    "This class is designed to make data preprocessing easier."
   ]
  },
  {
   "cell_type": "code",
   "execution_count": 4,
   "metadata": {},
   "outputs": [
    {
     "data": {
      "text/plain": [
       "acutils.handler.DataHandler"
      ]
     },
     "execution_count": 4,
     "metadata": {},
     "output_type": "execute_result"
    }
   ],
   "source": [
    "au.handler.DataHandler"
   ]
  },
  {
   "cell_type": "markdown",
   "metadata": {},
   "source": [
    "Before using the handler, we generate the example data."
   ]
  },
  {
   "cell_type": "code",
   "execution_count": 5,
   "metadata": {},
   "outputs": [],
   "source": [
    "from generate_data import reset_fake_data\n",
    "reset_fake_data()"
   ]
  },
  {
   "cell_type": "markdown",
   "metadata": {},
   "source": [
    "Init handler by selecting a data directory and allowing CPUs."
   ]
  },
  {
   "cell_type": "code",
   "execution_count": 6,
   "metadata": {},
   "outputs": [],
   "source": [
    "import os\n",
    "DIR = os.path.abspath('fake_data')\n",
    "ANIMALS_DIR = os.path.join(DIR, \"animals\")"
   ]
  },
  {
   "cell_type": "code",
   "execution_count": 7,
   "metadata": {},
   "outputs": [],
   "source": [
    "handler = au.handler.DataHandler(ANIMALS_DIR, allowed_cpus=2)"
   ]
  },
  {
   "cell_type": "markdown",
   "metadata": {},
   "source": [
    "Load png/jpg/jpeg files from data directory"
   ]
  },
  {
   "cell_type": "code",
   "execution_count": 8,
   "metadata": {},
   "outputs": [],
   "source": [
    "handler.file_extensions = [\"png\", \"jpg\", \"jpeg\"]\n",
    "handler.load_data_fromdatapath()"
   ]
  },
  {
   "cell_type": "code",
   "execution_count": 9,
   "metadata": {},
   "outputs": [
    {
     "data": {
      "text/plain": [
       "array(['6.png', '2.png', 'random5text.jpeg', '9.png', '7.png', '1.png',\n",
       "       '3.png', '12.png', '11.png', '10.png', '4.png', '8.png'],\n",
       "      dtype='<U256')"
      ]
     },
     "execution_count": 9,
     "metadata": {},
     "output_type": "execute_result"
    }
   ],
   "source": [
    "handler.files"
   ]
  },
  {
   "attachments": {},
   "cell_type": "markdown",
   "metadata": {},
   "source": [
    "Load labels from sheet file."
   ]
  },
  {
   "cell_type": "code",
   "execution_count": 10,
   "metadata": {},
   "outputs": [],
   "source": [
    "LABELING_PATH = os.path.join(ANIMALS_DIR, 'labels.xlsx')"
   ]
  },
  {
   "cell_type": "code",
   "execution_count": 11,
   "metadata": {},
   "outputs": [],
   "source": [
    "handler.load_labels_fromsheet(LABELING_PATH, idcol=\"id\", labelcol=\"label\")"
   ]
  },
  {
   "cell_type": "code",
   "execution_count": 12,
   "metadata": {},
   "outputs": [
    {
     "data": {
      "text/plain": [
       "array(['dog', 'cat', 'cat', 'cat', 'dog', 'cat', 'dog', 'dog', 'dog',\n",
       "       'cat', 'dog', 'dog'], dtype='<U256')"
      ]
     },
     "execution_count": 12,
     "metadata": {},
     "output_type": "execute_result"
    }
   ],
   "source": [
    "handler.labels"
   ]
  },
  {
   "attachments": {},
   "cell_type": "markdown",
   "metadata": {},
   "source": [
    "We are going to resize those images.\n",
    "\n",
    "First, select new size and new directory."
   ]
  },
  {
   "cell_type": "code",
   "execution_count": 13,
   "metadata": {},
   "outputs": [],
   "source": [
    "NEW_WIDTH = 224\n",
    "NEW_HEIGHT = 224\n",
    "DATASETS_DIR = os.path.join(DIR, f\"sets_{NEW_WIDTH}x{NEW_HEIGHT}\")"
   ]
  },
  {
   "cell_type": "code",
   "execution_count": 14,
   "metadata": {},
   "outputs": [],
   "source": [
    "import shutil\n",
    "if os.path.isdir(DATASETS_DIR):\n",
    "    shutil.rmtree(DATASETS_DIR)\n",
    "os.mkdir(DATASETS_DIR)"
   ]
  },
  {
   "attachments": {},
   "cell_type": "markdown",
   "metadata": {},
   "source": [
    "In the library, each function that can be use as treatment is prefixed with \"tmnt_\".\n",
    "\n",
    "An appropriate function must have \"src\" and \"dst\" arguments, wich are absolute paths.\n",
    "\n",
    "Other arguments of this function should be passed as **kwargs."
   ]
  },
  {
   "cell_type": "code",
   "execution_count": 15,
   "metadata": {},
   "outputs": [],
   "source": [
    "DATA_PATH = os.path.join(DATASETS_DIR, \"data\")"
   ]
  },
  {
   "cell_type": "code",
   "execution_count": 16,
   "metadata": {},
   "outputs": [
    {
     "data": {
      "text/plain": [
       "array(['6.png', '2.png', 'random5text.jpeg', '9.png', '7.png', '1.png',\n",
       "       '3.png', '12.png', '11.png', '10.png', '4.png', '8.png'],\n",
       "      dtype='<U256')"
      ]
     },
     "execution_count": 16,
     "metadata": {},
     "output_type": "execute_result"
    }
   ],
   "source": [
    "handler.files"
   ]
  },
  {
   "cell_type": "code",
   "execution_count": 17,
   "metadata": {},
   "outputs": [
    {
     "name": "stdout",
     "output_type": "stream",
     "text": [
      "CUDA_VISIBLE_DEVICES is not set.Valid example: export CUDA_VISIBLE_DEVICES=1,3,0\n",
      "|WRN| Using CPU, cucim or cupy not available.\n",
      "CUDA_VISIBLE_DEVICES is not set.Valid example: export CUDA_VISIBLE_DEVICES=1,3,0\n",
      "|WRN| Using CPU, cucim or cupy not available.\n"
     ]
    }
   ],
   "source": [
    "handler.process(DATA_PATH, au.image.tmnt_resize_file, empty_dir=True, \n",
    "                new_width=NEW_WIDTH, new_height=NEW_HEIGHT)"
   ]
  },
  {
   "cell_type": "code",
   "execution_count": 18,
   "metadata": {},
   "outputs": [
    {
     "name": "stdout",
     "output_type": "stream",
     "text": [
      "data\n"
     ]
    }
   ],
   "source": [
    "!ls {DATASETS_DIR}"
   ]
  },
  {
   "cell_type": "code",
   "execution_count": 19,
   "metadata": {},
   "outputs": [
    {
     "name": "stdout",
     "output_type": "stream",
     "text": [
      "cat  dog\n"
     ]
    }
   ],
   "source": [
    "!ls {DATA_PATH}"
   ]
  },
  {
   "cell_type": "code",
   "execution_count": 20,
   "metadata": {},
   "outputs": [
    {
     "name": "stdout",
     "output_type": "stream",
     "text": [
      "10.png\t1.png  2.png  9.png  random5text.jpeg\n"
     ]
    }
   ],
   "source": [
    "!ls {os.path.join(DATA_PATH, handler.labels[1])}"
   ]
  },
  {
   "attachments": {},
   "cell_type": "markdown",
   "metadata": {},
   "source": [
    "Split into train and validation datasets.\n",
    "\n",
    "Returns dictionnaries with files as keys and labels as values."
   ]
  },
  {
   "cell_type": "code",
   "execution_count": 21,
   "metadata": {},
   "outputs": [],
   "source": [
    "tdata, vdata = handler.split(train_percentage=0.70) # 70% is the default value"
   ]
  },
  {
   "cell_type": "code",
   "execution_count": 22,
   "metadata": {},
   "outputs": [
    {
     "data": {
      "text/plain": [
       "{'random5text.jpeg': 'cat',\n",
       " '10.png': 'cat',\n",
       " '4.png': 'dog',\n",
       " '7.png': 'dog',\n",
       " '11.png': 'dog'}"
      ]
     },
     "execution_count": 22,
     "metadata": {},
     "output_type": "execute_result"
    }
   ],
   "source": [
    "vdata"
   ]
  },
  {
   "attachments": {},
   "cell_type": "markdown",
   "metadata": {},
   "source": [
    "Balance data between labels."
   ]
  },
  {
   "cell_type": "code",
   "execution_count": 23,
   "metadata": {},
   "outputs": [],
   "source": [
    "bal_tdata, bal_vdata = handler.balance_datasets(tdata, vdata)"
   ]
  },
  {
   "cell_type": "code",
   "execution_count": 24,
   "metadata": {},
   "outputs": [
    {
     "data": {
      "text/plain": [
       "{'random5text.jpeg': 'cat', '10.png': 'cat', '4.png': 'dog', '11.png': 'dog'}"
      ]
     },
     "execution_count": 24,
     "metadata": {},
     "output_type": "execute_result"
    }
   ],
   "source": [
    "bal_vdata"
   ]
  },
  {
   "attachments": {},
   "cell_type": "markdown",
   "metadata": {},
   "source": [
    "We can also directly make train and validation directories with treated data."
   ]
  },
  {
   "attachments": {},
   "cell_type": "markdown",
   "metadata": {},
   "source": [
    "Load data files and labels from data directory.\n",
    "\n",
    "Assuming that those files are inside subdirectories (named with unique labels)."
   ]
  },
  {
   "cell_type": "code",
   "execution_count": 25,
   "metadata": {},
   "outputs": [],
   "source": [
    "TRAIN_PATH = os.path.join(DATASETS_DIR, \"train\")\n",
    "VAL_PATH = os.path.join(DATASETS_DIR, \"val\")"
   ]
  },
  {
   "cell_type": "code",
   "execution_count": 26,
   "metadata": {},
   "outputs": [],
   "source": [
    "handler.make_datasets(TRAIN_PATH, VAL_PATH, tdata, vdata, \n",
    "                        func=au.image.tmnt_resize_file, \n",
    "                        new_width=NEW_WIDTH, new_height=NEW_HEIGHT)"
   ]
  },
  {
   "cell_type": "code",
   "execution_count": 27,
   "metadata": {},
   "outputs": [
    {
     "name": "stdout",
     "output_type": "stream",
     "text": [
      "data  train  val\n"
     ]
    }
   ],
   "source": [
    "!ls {DATASETS_DIR}"
   ]
  },
  {
   "cell_type": "code",
   "execution_count": 28,
   "metadata": {},
   "outputs": [],
   "source": [
    "TRAIN_BAL_PATH = os.path.join(DATASETS_DIR, \"train_bal\")\n",
    "VAL_BAL_PATH = os.path.join(DATASETS_DIR, \"val_bal\")"
   ]
  },
  {
   "cell_type": "code",
   "execution_count": 29,
   "metadata": {},
   "outputs": [],
   "source": [
    "handler.make_datasets(TRAIN_BAL_PATH, VAL_BAL_PATH, bal_tdata, bal_vdata, \n",
    "                        func=au.image.tmnt_resize_file, \n",
    "                        new_width=NEW_WIDTH, new_height=NEW_HEIGHT)"
   ]
  },
  {
   "cell_type": "code",
   "execution_count": 30,
   "metadata": {},
   "outputs": [
    {
     "name": "stdout",
     "output_type": "stream",
     "text": [
      "data  train  train_bal\tval  val_bal\n"
     ]
    }
   ],
   "source": [
    "!ls {DATASETS_DIR}"
   ]
  },
  {
   "attachments": {},
   "cell_type": "markdown",
   "metadata": {},
   "source": [
    "It was also possible to load labels without sheet file.\n",
    "\n",
    "Assuming that those files are inside subdirectories (named with unique labels)."
   ]
  },
  {
   "cell_type": "code",
   "execution_count": 31,
   "metadata": {},
   "outputs": [],
   "source": [
    "ANIMALS_LABELED_DIR = os.path.join(DIR, \"labeled_animals\")"
   ]
  },
  {
   "attachments": {},
   "cell_type": "markdown",
   "metadata": {},
   "source": [
    "Note that on DataHandler instanciation, you can indicate expected extensions."
   ]
  },
  {
   "cell_type": "code",
   "execution_count": 32,
   "metadata": {},
   "outputs": [],
   "source": [
    "handler2 = au.handler.DataHandler(ANIMALS_LABELED_DIR, file_extensions=[\"png\"])"
   ]
  },
  {
   "attachments": {},
   "cell_type": "markdown",
   "metadata": {},
   "source": [
    "Load data files and labels from data directory.\n",
    "\n"
   ]
  },
  {
   "cell_type": "code",
   "execution_count": 33,
   "metadata": {},
   "outputs": [],
   "source": [
    "handler2.load_labeled_data_fromdatapath()"
   ]
  },
  {
   "cell_type": "code",
   "execution_count": 34,
   "metadata": {},
   "outputs": [
    {
     "data": {
      "text/plain": [
       "array(['cat/2.png', 'cat/9.png', 'cat/1.png', 'cat/10.png', 'dog/6.png',\n",
       "       'dog/7.png', 'dog/3.png', 'dog/12.png', 'dog/11.png', 'dog/4.png',\n",
       "       'dog/8.png'], dtype='<U256')"
      ]
     },
     "execution_count": 34,
     "metadata": {},
     "output_type": "execute_result"
    }
   ],
   "source": [
    "handler2.files"
   ]
  },
  {
   "cell_type": "code",
   "execution_count": 35,
   "metadata": {},
   "outputs": [
    {
     "data": {
      "text/plain": [
       "array(['cat', 'cat', 'cat', 'cat', 'dog', 'dog', 'dog', 'dog', 'dog',\n",
       "       'dog', 'dog'], dtype='<U256')"
      ]
     },
     "execution_count": 35,
     "metadata": {},
     "output_type": "execute_result"
    }
   ],
   "source": [
    "handler2.labels"
   ]
  },
  {
   "attachments": {},
   "cell_type": "markdown",
   "metadata": {},
   "source": [
    "Finally some files could be related, so they musn't be in both train and val sets.\n",
    "\n",
    "For example, in pathology, a same patient might have multiple slides."
   ]
  },
  {
   "cell_type": "code",
   "execution_count": 36,
   "metadata": {},
   "outputs": [],
   "source": [
    "SLIDES_DIR = os.path.join(DIR, 'slides')"
   ]
  },
  {
   "cell_type": "code",
   "execution_count": 37,
   "metadata": {},
   "outputs": [],
   "source": [
    "handler3 = au.handler.DataHandler(SLIDES_DIR)"
   ]
  },
  {
   "cell_type": "code",
   "execution_count": 38,
   "metadata": {},
   "outputs": [],
   "source": [
    "handler3.load_data_fromdatapath()"
   ]
  },
  {
   "cell_type": "code",
   "execution_count": 39,
   "metadata": {},
   "outputs": [
    {
     "data": {
      "text/plain": [
       "array(['p7_s10.tif', 'p5_s7.tif', 'p4_s5.tif', 'p1_s2.tif', 'p1_s1.tif',\n",
       "       'p6_s9.tif', 'p3_s4.tif', 'patients.csv', 'p6_s8.tif',\n",
       "       'p7_s11.tif', 'p4_s6.tif', 'p2_s3.tif'], dtype='<U256')"
      ]
     },
     "execution_count": 39,
     "metadata": {},
     "output_type": "execute_result"
    }
   ],
   "source": [
    "handler3.files"
   ]
  },
  {
   "cell_type": "code",
   "execution_count": 40,
   "metadata": {},
   "outputs": [],
   "source": [
    "handler3.load_labels_fromsheet(os.path.join(SLIDES_DIR, 'patients.csv'), \n",
    "                               idcol='slide_id', labelcol='label')"
   ]
  },
  {
   "cell_type": "code",
   "execution_count": 41,
   "metadata": {},
   "outputs": [],
   "source": [
    "handler3.load_groups_fromsheet(os.path.join(SLIDES_DIR, 'patients.csv'), \n",
    "                               idcol='slide_id', groupcol='patient_id')"
   ]
  },
  {
   "cell_type": "code",
   "execution_count": 42,
   "metadata": {},
   "outputs": [
    {
     "data": {
      "text/plain": [
       "array(['p7_s10.tif', 'p5_s7.tif', 'p4_s5.tif', 'p1_s2.tif', 'p1_s1.tif',\n",
       "       'p6_s9.tif', 'p3_s4.tif', 'p6_s8.tif', 'p7_s11.tif', 'p4_s6.tif',\n",
       "       'p2_s3.tif'], dtype='<U256')"
      ]
     },
     "execution_count": 42,
     "metadata": {},
     "output_type": "execute_result"
    }
   ],
   "source": [
    "handler3.files"
   ]
  },
  {
   "cell_type": "code",
   "execution_count": 43,
   "metadata": {},
   "outputs": [
    {
     "data": {
      "text/plain": [
       "array(['p7', 'p5', 'p4', 'p1', 'p1', 'p6', 'p3', 'p6', 'p7', 'p4', 'p2'],\n",
       "      dtype='<U256')"
      ]
     },
     "execution_count": 43,
     "metadata": {},
     "output_type": "execute_result"
    }
   ],
   "source": [
    "handler3.groups"
   ]
  },
  {
   "cell_type": "markdown",
   "metadata": {},
   "source": [
    "If \"groups\" attribute is defined, by default, split use them."
   ]
  },
  {
   "cell_type": "code",
   "execution_count": 44,
   "metadata": {},
   "outputs": [],
   "source": [
    "tdata, vdata = handler3.split(ignore_groups=False)"
   ]
  },
  {
   "cell_type": "code",
   "execution_count": 45,
   "metadata": {},
   "outputs": [
    {
     "data": {
      "text/plain": [
       "{'p4_s5.tif': 'neg',\n",
       " 'p4_s6.tif': 'neg',\n",
       " 'p2_s3.tif': 'neg',\n",
       " 'p7_s10.tif': 'neg',\n",
       " 'p7_s11.tif': 'neg',\n",
       " 'p3_s4.tif': 'pos',\n",
       " 'p1_s2.tif': 'pos',\n",
       " 'p1_s1.tif': 'pos'}"
      ]
     },
     "execution_count": 45,
     "metadata": {},
     "output_type": "execute_result"
    }
   ],
   "source": [
    "tdata"
   ]
  },
  {
   "cell_type": "code",
   "execution_count": 46,
   "metadata": {},
   "outputs": [
    {
     "data": {
      "text/plain": [
       "{'p6_s9.tif': 'neg', 'p6_s8.tif': 'neg', 'p5_s7.tif': 'pos'}"
      ]
     },
     "execution_count": 46,
     "metadata": {},
     "output_type": "execute_result"
    }
   ],
   "source": [
    "vdata"
   ]
  }
 ],
 "metadata": {
  "kernelspec": {
   "display_name": "Python 3",
   "language": "python",
   "name": "python3"
  },
  "language_info": {
   "codemirror_mode": {
    "name": "ipython",
    "version": 3
   },
   "file_extension": ".py",
   "mimetype": "text/x-python",
   "name": "python",
   "nbconvert_exporter": "python",
   "pygments_lexer": "ipython3",
   "version": "3.10.12"
  },
  "orig_nbformat": 4,
  "vscode": {
   "interpreter": {
    "hash": "916dbcbb3f70747c44a77c7bcd40155683ae19c65e1c03b4aa3499c5328201f1"
   }
  }
 },
 "nbformat": 4,
 "nbformat_minor": 2
}
